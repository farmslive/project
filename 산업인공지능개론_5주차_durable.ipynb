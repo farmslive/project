{
  "nbformat": 4,
  "nbformat_minor": 0,
  "metadata": {
    "colab": {
      "name": "산업인공지능개론-5주차-durable.ipynb",
      "provenance": [],
      "authorship_tag": "ABX9TyOgkNXgrVu8aKreX+90e7fo",
      "include_colab_link": true
    },
    "kernelspec": {
      "name": "python3",
      "display_name": "Python 3"
    },
    "language_info": {
      "name": "python"
    }
  },
  "cells": [
    {
      "cell_type": "markdown",
      "metadata": {
        "id": "view-in-github",
        "colab_type": "text"
      },
      "source": [
        "<a href=\"https://colab.research.google.com/github/farmslive/project/blob/master/%EC%82%B0%EC%97%85%EC%9D%B8%EA%B3%B5%EC%A7%80%EB%8A%A5%EA%B0%9C%EB%A1%A0_5%EC%A3%BC%EC%B0%A8_durable.ipynb\" target=\"_parent\"><img src=\"https://colab.research.google.com/assets/colab-badge.svg\" alt=\"Open In Colab\"/></a>"
      ]
    },
    {
      "cell_type": "code",
      "metadata": {
        "colab": {
          "base_uri": "https://localhost:8080/"
        },
        "id": "lCW837nlJM59",
        "outputId": "923b359c-a8e2-4387-b67c-d63d060c4de6"
      },
      "source": [
        "!pip install durable_rules\n",
        "from durable.lang import *\n",
        "\n",
        "with ruleset('투약기'):\n",
        "    #1\n",
        "    @when_all(c.first << (m.predicate == '투약기가') & (m.object == '동작하지 않는다.'),\n",
        "              (m.predicate == '투약기의') & (m.object == '문제해결 방법이다.') & (m.subject == c.first.subject))\n",
        "    def 전원(c):\n",
        "        c.assert_fact({ 'subject': c.first.subject, 'predicate': '투약기 전원을', 'object': '올린다' })\n",
        "    #2\n",
        "    @when_all(c.first << (m.predicate == '투약기가') & (m.object == '동작하지 않는다.'),\n",
        "              (m.predicate == '투약기의') & (m.object == '문제해결 방법이다.') & (m.subject == c.first.subject))\n",
        "    def 쇼트(c):\n",
        "        c.assert_fact({'subject': c.first.subject, 'predicate': '투약기의', 'object': '차단기를 확인한다'})\n",
        "    #3\n",
        "    @when_all(c.first << (m.predicate == '투약기가') & (m.object == '오동작 한다.'),\n",
        "              (m.predicate == '오동작 투약기의') & (m.object == '문제해결 방법이다.') & (m.subject == c.first.subject))\n",
        "    def 접지(c):\n",
        "        c.assert_fact({'subject': c.first.subject, 'predicate': '투약기의', 'object': '접지를 확인한다'})\n",
        "    #4\n",
        "    @when_all(c.first << (m.predicate == '투약기가') & (m.object == '오동작 한다.'),\n",
        "              (m.predicate == '투약기의') & (m.object == '문제해결 방법이다.') & (m.subject == c.first.subject))\n",
        "    def 센서(c):\n",
        "        c.assert_fact({'subject': c.first.subject, 'predicate': '센서의', 'object': '설치를 확인한다'})\n",
        "    #5\n",
        "    @when_all(c.first << (m.predicate == '투약기가') & (m.object == '약품이 투여되지 않는다.'),\n",
        "              (m.predicate == '투약기의') & (m.object == '문제해결 방법이다.') & (m.subject == c.first.subject))\n",
        "    def 투여(c):\n",
        "        c.assert_fact({'subject': c.first.subject, 'predicate': '배관의', 'object': '압력을 확인한다'})\n",
        "    #6\n",
        "    @when_all(c.first << (m.predicate == '투약기가') & (m.object == '약품의 투여량이 다르다.'),\n",
        "              (m.predicate == '투약기의') & (m.object == '문제해결 방법이다.') & (m.subject == c.first.subject))\n",
        "    def 비율(c):\n",
        "        c.assert_fact({'subject': c.first.subject, 'predicate': '투약비율을', 'object': '확인한다'})\n",
        "   #7\n",
        "    @when_all(c.first << (m.predicate == '투약기가') & (m.object == '약품의 투여량이 다르다.'),\n",
        "              (m.predicate == '투약기의') & (m.object == '문제해결 방법이다.') & (m.subject == c.first.subject))\n",
        "    def 튜브(c):\n",
        "        c.assert_fact({'subject': c.first.subject, 'predicate': '튜브번호를', 'object': '확인한다'})\n",
        "\n",
        "    @when_all(+m.subject)\n",
        "    def output(c):\n",
        "        print('Fact: {0} {1} {2}'.format(c.m.subject, c.m.predicate, c.m.object))\n",
        "\n",
        "\n",
        "assert_fact('투약기', { 'subject': '전원 문제일경우', 'predicate': '투약기가', 'object': '동작하지 않는다.' })\n",
        "assert_fact('투약기', { 'subject': '전원 문제일경우', 'predicate': '투약기의', 'object': '문제해결 방법이다.' })\n",
        "assert_fact('투약기', { 'subject': '쇼트 문제일경우', 'predicate': '투약기가', 'object': '동작하지 않는다.' })\n",
        "assert_fact('투약기', { 'subject': '쇼트 문제일경우', 'predicate': '투약기의', 'object': '문제해결 방법이다.' })\n",
        "assert_fact('투약기', { 'subject': '접지 문제일경우', 'predicate': '투약기가', 'object': '오작동 한다.' })\n",
        "assert_fact('투약기', { 'subject': '접지 문제일경우', 'predicate': '투약기의', 'object': '문제해결 방법이다.' })\n",
        "assert_fact('투약기', { 'subject': '센서 문제일경우', 'predicate': '투약기가', 'object': '오작동 한다.' })\n",
        "assert_fact('투약기', { 'subject': '센서 문제일경우', 'predicate': '투약기의', 'object': '문제해결 방법이다.' })\n",
        "assert_fact('투약기', { 'subject': '투여 문제일경우', 'predicate': '투약기가', 'object': '약품이 투여되지 않는다.' })\n",
        "assert_fact('투약기', { 'subject': '투여 문제일경우', 'predicate': '투약기의', 'object': '문제해결 방법이다.' })\n",
        "assert_fact('투약기', { 'subject': '비율 문제일경우', 'predicate': '투약기가', 'object': '약품의 투여량이 다르다.' })\n",
        "assert_fact('투약기', { 'subject': '비율 문제일경우', 'predicate': '투약기의', 'object': '문제해결 방법이다.' })\n",
        "assert_fact('투약기', { 'subject': '튜브 문제일경우', 'predicate': '투약기가', 'object': '약품의 투여량이 다르다.' })\n",
        "assert_fact('투약기', { 'subject': '튜브 문제일경우', 'predicate': '투약기의', 'object': '문제해결 방법이다.' })"
      ],
      "execution_count": null,
      "outputs": [
        {
          "output_type": "stream",
          "text": [
            "Requirement already satisfied: durable_rules in /usr/local/lib/python3.7/dist-packages (2.0.28)\n",
            "Fact: 전원 문제일경우 투약기가 동작하지 않는다.\n",
            "Fact: 전원 문제일경우 투약기의 차단기를 확인한다\n",
            "Fact: 전원 문제일경우 투약기 전원을 올린다\n",
            "Fact: 전원 문제일경우 투약기의 문제해결 방법이다.\n",
            "Fact: 쇼트 문제일경우 투약기가 동작하지 않는다.\n",
            "Fact: 쇼트 문제일경우 투약기의 차단기를 확인한다\n",
            "Fact: 쇼트 문제일경우 투약기 전원을 올린다\n",
            "Fact: 쇼트 문제일경우 투약기의 문제해결 방법이다.\n",
            "Fact: 접지 문제일경우 투약기가 오작동 한다.\n",
            "Fact: 접지 문제일경우 투약기의 문제해결 방법이다.\n",
            "Fact: 센서 문제일경우 투약기가 오작동 한다.\n",
            "Fact: 센서 문제일경우 투약기의 문제해결 방법이다.\n",
            "Fact: 투여 문제일경우 투약기가 약품이 투여되지 않는다.\n",
            "Fact: 투여 문제일경우 배관의 압력을 확인한다\n",
            "Fact: 투여 문제일경우 투약기의 문제해결 방법이다.\n",
            "Fact: 비율 문제일경우 투약기가 약품의 투여량이 다르다.\n",
            "Fact: 비율 문제일경우 튜브번호를 확인한다\n",
            "Fact: 비율 문제일경우 투약비율을 확인한다\n",
            "Fact: 비율 문제일경우 투약기의 문제해결 방법이다.\n",
            "Fact: 튜브 문제일경우 투약기가 약품의 투여량이 다르다.\n",
            "Fact: 튜브 문제일경우 튜브번호를 확인한다\n",
            "Fact: 튜브 문제일경우 투약비율을 확인한다\n",
            "Fact: 튜브 문제일경우 투약기의 문제해결 방법이다.\n"
          ],
          "name": "stdout"
        },
        {
          "output_type": "execute_result",
          "data": {
            "text/plain": [
              "{'$s': 1, 'id': 'sid-0', 'sid': '0'}"
            ]
          },
          "metadata": {
            "tags": []
          },
          "execution_count": 19
        }
      ]
    },
    {
      "cell_type": "code",
      "metadata": {
        "id": "7XFiIBZaLF1e"
      },
      "source": [
        ""
      ],
      "execution_count": null,
      "outputs": []
    },
    {
      "cell_type": "code",
      "metadata": {
        "id": "OM2DmSrYLGLk"
      },
      "source": [
        ""
      ],
      "execution_count": null,
      "outputs": []
    }
  ]
}